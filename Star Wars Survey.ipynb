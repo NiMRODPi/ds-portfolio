{
 "cells": [
  {
   "cell_type": "markdown",
   "id": "314007e8",
   "metadata": {},
   "source": [
    "# Star Wars Survey"
   ]
  },
  {
   "cell_type": "markdown",
   "id": "190b5212",
   "metadata": {},
   "source": [
    "While waiting for Star Wars: The Force Awakens to come out, the team at FiveThirtyEight became interested in answering some questions about Star Wars fans. In particular, they wondered: does the rest of America realize that “The Empire Strikes Back” is clearly the best of the bunch?\n",
    "\n",
    "The team needed to collect data addressing this question. To do this, they surveyed Star Wars fans using the online tool SurveyMonkey. They received 835 total responses, which you can download from their GitHub repository."
   ]
  },
  {
   "cell_type": "code",
   "execution_count": 1,
   "id": "cbdbfa9b",
   "metadata": {},
   "outputs": [],
   "source": [
    "import pandas as pd\n",
    "star_wars = pd.read_csv(\"/Users/tonyderuiter/Documents/Projects/Star Wars Project/star_wars.csv\", encoding=\"ISO-8859-1\")"
   ]
  },
  {
   "cell_type": "code",
   "execution_count": 2,
   "id": "4208a686",
   "metadata": {},
   "outputs": [
    {
     "data": {
      "text/html": [
       "<div>\n",
       "<style scoped>\n",
       "    .dataframe tbody tr th:only-of-type {\n",
       "        vertical-align: middle;\n",
       "    }\n",
       "\n",
       "    .dataframe tbody tr th {\n",
       "        vertical-align: top;\n",
       "    }\n",
       "\n",
       "    .dataframe thead th {\n",
       "        text-align: right;\n",
       "    }\n",
       "</style>\n",
       "<table border=\"1\" class=\"dataframe\">\n",
       "  <thead>\n",
       "    <tr style=\"text-align: right;\">\n",
       "      <th></th>\n",
       "      <th>RespondentID</th>\n",
       "      <th>Have you seen any of the 6 films in the Star Wars franchise?</th>\n",
       "      <th>Do you consider yourself to be a fan of the Star Wars film franchise?</th>\n",
       "      <th>Which of the following Star Wars films have you seen? Please select all that apply.</th>\n",
       "      <th>Unnamed: 4</th>\n",
       "      <th>Unnamed: 5</th>\n",
       "      <th>Unnamed: 6</th>\n",
       "      <th>Unnamed: 7</th>\n",
       "      <th>Unnamed: 8</th>\n",
       "      <th>Please rank the Star Wars films in order of preference with 1 being your favorite film in the franchise and 6 being your least favorite film.</th>\n",
       "      <th>...</th>\n",
       "      <th>Unnamed: 28</th>\n",
       "      <th>Which character shot first?</th>\n",
       "      <th>Are you familiar with the Expanded Universe?</th>\n",
       "      <th>Do you consider yourself to be a fan of the Expanded Universe?</th>\n",
       "      <th>Do you consider yourself to be a fan of the Star Trek franchise?</th>\n",
       "      <th>Gender</th>\n",
       "      <th>Age</th>\n",
       "      <th>Household Income</th>\n",
       "      <th>Education</th>\n",
       "      <th>Location (Census Region)</th>\n",
       "    </tr>\n",
       "  </thead>\n",
       "  <tbody>\n",
       "    <tr>\n",
       "      <th>0</th>\n",
       "      <td>3292879998</td>\n",
       "      <td>Yes</td>\n",
       "      <td>Yes</td>\n",
       "      <td>Star Wars: Episode I  The Phantom Menace</td>\n",
       "      <td>Star Wars: Episode II  Attack of the Clones</td>\n",
       "      <td>Star Wars: Episode III  Revenge of the Sith</td>\n",
       "      <td>Star Wars: Episode IV  A New Hope</td>\n",
       "      <td>Star Wars: Episode V The Empire Strikes Back</td>\n",
       "      <td>Star Wars: Episode VI Return of the Jedi</td>\n",
       "      <td>3.0</td>\n",
       "      <td>...</td>\n",
       "      <td>Very favorably</td>\n",
       "      <td>I don't understand this question</td>\n",
       "      <td>Yes</td>\n",
       "      <td>No</td>\n",
       "      <td>No</td>\n",
       "      <td>Male</td>\n",
       "      <td>18-29</td>\n",
       "      <td>NaN</td>\n",
       "      <td>High school degree</td>\n",
       "      <td>South Atlantic</td>\n",
       "    </tr>\n",
       "    <tr>\n",
       "      <th>1</th>\n",
       "      <td>3292879538</td>\n",
       "      <td>No</td>\n",
       "      <td>NaN</td>\n",
       "      <td>NaN</td>\n",
       "      <td>NaN</td>\n",
       "      <td>NaN</td>\n",
       "      <td>NaN</td>\n",
       "      <td>NaN</td>\n",
       "      <td>NaN</td>\n",
       "      <td>NaN</td>\n",
       "      <td>...</td>\n",
       "      <td>NaN</td>\n",
       "      <td>NaN</td>\n",
       "      <td>NaN</td>\n",
       "      <td>NaN</td>\n",
       "      <td>Yes</td>\n",
       "      <td>Male</td>\n",
       "      <td>18-29</td>\n",
       "      <td>$0 - $24,999</td>\n",
       "      <td>Bachelor degree</td>\n",
       "      <td>West South Central</td>\n",
       "    </tr>\n",
       "    <tr>\n",
       "      <th>2</th>\n",
       "      <td>3292765271</td>\n",
       "      <td>Yes</td>\n",
       "      <td>No</td>\n",
       "      <td>Star Wars: Episode I  The Phantom Menace</td>\n",
       "      <td>Star Wars: Episode II  Attack of the Clones</td>\n",
       "      <td>Star Wars: Episode III  Revenge of the Sith</td>\n",
       "      <td>NaN</td>\n",
       "      <td>NaN</td>\n",
       "      <td>NaN</td>\n",
       "      <td>1.0</td>\n",
       "      <td>...</td>\n",
       "      <td>Unfamiliar (N/A)</td>\n",
       "      <td>I don't understand this question</td>\n",
       "      <td>No</td>\n",
       "      <td>NaN</td>\n",
       "      <td>No</td>\n",
       "      <td>Male</td>\n",
       "      <td>18-29</td>\n",
       "      <td>$0 - $24,999</td>\n",
       "      <td>High school degree</td>\n",
       "      <td>West North Central</td>\n",
       "    </tr>\n",
       "    <tr>\n",
       "      <th>3</th>\n",
       "      <td>3292763116</td>\n",
       "      <td>Yes</td>\n",
       "      <td>Yes</td>\n",
       "      <td>Star Wars: Episode I  The Phantom Menace</td>\n",
       "      <td>Star Wars: Episode II  Attack of the Clones</td>\n",
       "      <td>Star Wars: Episode III  Revenge of the Sith</td>\n",
       "      <td>Star Wars: Episode IV  A New Hope</td>\n",
       "      <td>Star Wars: Episode V The Empire Strikes Back</td>\n",
       "      <td>Star Wars: Episode VI Return of the Jedi</td>\n",
       "      <td>5.0</td>\n",
       "      <td>...</td>\n",
       "      <td>Very favorably</td>\n",
       "      <td>I don't understand this question</td>\n",
       "      <td>No</td>\n",
       "      <td>NaN</td>\n",
       "      <td>Yes</td>\n",
       "      <td>Male</td>\n",
       "      <td>18-29</td>\n",
       "      <td>$100,000 - $149,999</td>\n",
       "      <td>Some college or Associate degree</td>\n",
       "      <td>West North Central</td>\n",
       "    </tr>\n",
       "    <tr>\n",
       "      <th>4</th>\n",
       "      <td>3292731220</td>\n",
       "      <td>Yes</td>\n",
       "      <td>Yes</td>\n",
       "      <td>Star Wars: Episode I  The Phantom Menace</td>\n",
       "      <td>Star Wars: Episode II  Attack of the Clones</td>\n",
       "      <td>Star Wars: Episode III  Revenge of the Sith</td>\n",
       "      <td>Star Wars: Episode IV  A New Hope</td>\n",
       "      <td>Star Wars: Episode V The Empire Strikes Back</td>\n",
       "      <td>Star Wars: Episode VI Return of the Jedi</td>\n",
       "      <td>5.0</td>\n",
       "      <td>...</td>\n",
       "      <td>Somewhat favorably</td>\n",
       "      <td>Greedo</td>\n",
       "      <td>Yes</td>\n",
       "      <td>No</td>\n",
       "      <td>No</td>\n",
       "      <td>Male</td>\n",
       "      <td>18-29</td>\n",
       "      <td>$100,000 - $149,999</td>\n",
       "      <td>Some college or Associate degree</td>\n",
       "      <td>West North Central</td>\n",
       "    </tr>\n",
       "    <tr>\n",
       "      <th>5</th>\n",
       "      <td>3292719380</td>\n",
       "      <td>Yes</td>\n",
       "      <td>Yes</td>\n",
       "      <td>Star Wars: Episode I  The Phantom Menace</td>\n",
       "      <td>Star Wars: Episode II  Attack of the Clones</td>\n",
       "      <td>Star Wars: Episode III  Revenge of the Sith</td>\n",
       "      <td>Star Wars: Episode IV  A New Hope</td>\n",
       "      <td>Star Wars: Episode V The Empire Strikes Back</td>\n",
       "      <td>Star Wars: Episode VI Return of the Jedi</td>\n",
       "      <td>1.0</td>\n",
       "      <td>...</td>\n",
       "      <td>Very favorably</td>\n",
       "      <td>Han</td>\n",
       "      <td>Yes</td>\n",
       "      <td>No</td>\n",
       "      <td>Yes</td>\n",
       "      <td>Male</td>\n",
       "      <td>18-29</td>\n",
       "      <td>$25,000 - $49,999</td>\n",
       "      <td>Bachelor degree</td>\n",
       "      <td>Middle Atlantic</td>\n",
       "    </tr>\n",
       "    <tr>\n",
       "      <th>6</th>\n",
       "      <td>3292684787</td>\n",
       "      <td>Yes</td>\n",
       "      <td>Yes</td>\n",
       "      <td>Star Wars: Episode I  The Phantom Menace</td>\n",
       "      <td>Star Wars: Episode II  Attack of the Clones</td>\n",
       "      <td>Star Wars: Episode III  Revenge of the Sith</td>\n",
       "      <td>Star Wars: Episode IV  A New Hope</td>\n",
       "      <td>Star Wars: Episode V The Empire Strikes Back</td>\n",
       "      <td>Star Wars: Episode VI Return of the Jedi</td>\n",
       "      <td>6.0</td>\n",
       "      <td>...</td>\n",
       "      <td>Very favorably</td>\n",
       "      <td>Han</td>\n",
       "      <td>Yes</td>\n",
       "      <td>No</td>\n",
       "      <td>No</td>\n",
       "      <td>Male</td>\n",
       "      <td>18-29</td>\n",
       "      <td>NaN</td>\n",
       "      <td>High school degree</td>\n",
       "      <td>East North Central</td>\n",
       "    </tr>\n",
       "    <tr>\n",
       "      <th>7</th>\n",
       "      <td>3292663732</td>\n",
       "      <td>Yes</td>\n",
       "      <td>Yes</td>\n",
       "      <td>Star Wars: Episode I  The Phantom Menace</td>\n",
       "      <td>Star Wars: Episode II  Attack of the Clones</td>\n",
       "      <td>Star Wars: Episode III  Revenge of the Sith</td>\n",
       "      <td>Star Wars: Episode IV  A New Hope</td>\n",
       "      <td>Star Wars: Episode V The Empire Strikes Back</td>\n",
       "      <td>Star Wars: Episode VI Return of the Jedi</td>\n",
       "      <td>4.0</td>\n",
       "      <td>...</td>\n",
       "      <td>Very favorably</td>\n",
       "      <td>Han</td>\n",
       "      <td>No</td>\n",
       "      <td>NaN</td>\n",
       "      <td>Yes</td>\n",
       "      <td>Male</td>\n",
       "      <td>18-29</td>\n",
       "      <td>NaN</td>\n",
       "      <td>High school degree</td>\n",
       "      <td>South Atlantic</td>\n",
       "    </tr>\n",
       "    <tr>\n",
       "      <th>8</th>\n",
       "      <td>3292654043</td>\n",
       "      <td>Yes</td>\n",
       "      <td>Yes</td>\n",
       "      <td>Star Wars: Episode I  The Phantom Menace</td>\n",
       "      <td>Star Wars: Episode II  Attack of the Clones</td>\n",
       "      <td>Star Wars: Episode III  Revenge of the Sith</td>\n",
       "      <td>Star Wars: Episode IV  A New Hope</td>\n",
       "      <td>Star Wars: Episode V The Empire Strikes Back</td>\n",
       "      <td>Star Wars: Episode VI Return of the Jedi</td>\n",
       "      <td>5.0</td>\n",
       "      <td>...</td>\n",
       "      <td>Somewhat favorably</td>\n",
       "      <td>Han</td>\n",
       "      <td>No</td>\n",
       "      <td>NaN</td>\n",
       "      <td>No</td>\n",
       "      <td>Male</td>\n",
       "      <td>18-29</td>\n",
       "      <td>$0 - $24,999</td>\n",
       "      <td>Some college or Associate degree</td>\n",
       "      <td>South Atlantic</td>\n",
       "    </tr>\n",
       "    <tr>\n",
       "      <th>9</th>\n",
       "      <td>3292640424</td>\n",
       "      <td>Yes</td>\n",
       "      <td>No</td>\n",
       "      <td>NaN</td>\n",
       "      <td>Star Wars: Episode II  Attack of the Clones</td>\n",
       "      <td>NaN</td>\n",
       "      <td>NaN</td>\n",
       "      <td>NaN</td>\n",
       "      <td>NaN</td>\n",
       "      <td>1.0</td>\n",
       "      <td>...</td>\n",
       "      <td>Very favorably</td>\n",
       "      <td>I don't understand this question</td>\n",
       "      <td>No</td>\n",
       "      <td>NaN</td>\n",
       "      <td>No</td>\n",
       "      <td>Male</td>\n",
       "      <td>18-29</td>\n",
       "      <td>$25,000 - $49,999</td>\n",
       "      <td>Some college or Associate degree</td>\n",
       "      <td>Pacific</td>\n",
       "    </tr>\n",
       "  </tbody>\n",
       "</table>\n",
       "<p>10 rows × 38 columns</p>\n",
       "</div>"
      ],
      "text/plain": [
       "   RespondentID Have you seen any of the 6 films in the Star Wars franchise?  \\\n",
       "0    3292879998                                                Yes             \n",
       "1    3292879538                                                 No             \n",
       "2    3292765271                                                Yes             \n",
       "3    3292763116                                                Yes             \n",
       "4    3292731220                                                Yes             \n",
       "5    3292719380                                                Yes             \n",
       "6    3292684787                                                Yes             \n",
       "7    3292663732                                                Yes             \n",
       "8    3292654043                                                Yes             \n",
       "9    3292640424                                                Yes             \n",
       "\n",
       "  Do you consider yourself to be a fan of the Star Wars film franchise?  \\\n",
       "0                                                Yes                      \n",
       "1                                                NaN                      \n",
       "2                                                 No                      \n",
       "3                                                Yes                      \n",
       "4                                                Yes                      \n",
       "5                                                Yes                      \n",
       "6                                                Yes                      \n",
       "7                                                Yes                      \n",
       "8                                                Yes                      \n",
       "9                                                 No                      \n",
       "\n",
       "  Which of the following Star Wars films have you seen? Please select all that apply.  \\\n",
       "0           Star Wars: Episode I  The Phantom Menace                                    \n",
       "1                                                NaN                                    \n",
       "2           Star Wars: Episode I  The Phantom Menace                                    \n",
       "3           Star Wars: Episode I  The Phantom Menace                                    \n",
       "4           Star Wars: Episode I  The Phantom Menace                                    \n",
       "5           Star Wars: Episode I  The Phantom Menace                                    \n",
       "6           Star Wars: Episode I  The Phantom Menace                                    \n",
       "7           Star Wars: Episode I  The Phantom Menace                                    \n",
       "8           Star Wars: Episode I  The Phantom Menace                                    \n",
       "9                                                NaN                                    \n",
       "\n",
       "                                    Unnamed: 4  \\\n",
       "0  Star Wars: Episode II  Attack of the Clones   \n",
       "1                                          NaN   \n",
       "2  Star Wars: Episode II  Attack of the Clones   \n",
       "3  Star Wars: Episode II  Attack of the Clones   \n",
       "4  Star Wars: Episode II  Attack of the Clones   \n",
       "5  Star Wars: Episode II  Attack of the Clones   \n",
       "6  Star Wars: Episode II  Attack of the Clones   \n",
       "7  Star Wars: Episode II  Attack of the Clones   \n",
       "8  Star Wars: Episode II  Attack of the Clones   \n",
       "9  Star Wars: Episode II  Attack of the Clones   \n",
       "\n",
       "                                    Unnamed: 5  \\\n",
       "0  Star Wars: Episode III  Revenge of the Sith   \n",
       "1                                          NaN   \n",
       "2  Star Wars: Episode III  Revenge of the Sith   \n",
       "3  Star Wars: Episode III  Revenge of the Sith   \n",
       "4  Star Wars: Episode III  Revenge of the Sith   \n",
       "5  Star Wars: Episode III  Revenge of the Sith   \n",
       "6  Star Wars: Episode III  Revenge of the Sith   \n",
       "7  Star Wars: Episode III  Revenge of the Sith   \n",
       "8  Star Wars: Episode III  Revenge of the Sith   \n",
       "9                                          NaN   \n",
       "\n",
       "                          Unnamed: 6  \\\n",
       "0  Star Wars: Episode IV  A New Hope   \n",
       "1                                NaN   \n",
       "2                                NaN   \n",
       "3  Star Wars: Episode IV  A New Hope   \n",
       "4  Star Wars: Episode IV  A New Hope   \n",
       "5  Star Wars: Episode IV  A New Hope   \n",
       "6  Star Wars: Episode IV  A New Hope   \n",
       "7  Star Wars: Episode IV  A New Hope   \n",
       "8  Star Wars: Episode IV  A New Hope   \n",
       "9                                NaN   \n",
       "\n",
       "                                     Unnamed: 7  \\\n",
       "0  Star Wars: Episode V The Empire Strikes Back   \n",
       "1                                           NaN   \n",
       "2                                           NaN   \n",
       "3  Star Wars: Episode V The Empire Strikes Back   \n",
       "4  Star Wars: Episode V The Empire Strikes Back   \n",
       "5  Star Wars: Episode V The Empire Strikes Back   \n",
       "6  Star Wars: Episode V The Empire Strikes Back   \n",
       "7  Star Wars: Episode V The Empire Strikes Back   \n",
       "8  Star Wars: Episode V The Empire Strikes Back   \n",
       "9                                           NaN   \n",
       "\n",
       "                                 Unnamed: 8  \\\n",
       "0  Star Wars: Episode VI Return of the Jedi   \n",
       "1                                       NaN   \n",
       "2                                       NaN   \n",
       "3  Star Wars: Episode VI Return of the Jedi   \n",
       "4  Star Wars: Episode VI Return of the Jedi   \n",
       "5  Star Wars: Episode VI Return of the Jedi   \n",
       "6  Star Wars: Episode VI Return of the Jedi   \n",
       "7  Star Wars: Episode VI Return of the Jedi   \n",
       "8  Star Wars: Episode VI Return of the Jedi   \n",
       "9                                       NaN   \n",
       "\n",
       "   Please rank the Star Wars films in order of preference with 1 being your favorite film in the franchise and 6 being your least favorite film.  \\\n",
       "0                                                3.0                                                                                               \n",
       "1                                                NaN                                                                                               \n",
       "2                                                1.0                                                                                               \n",
       "3                                                5.0                                                                                               \n",
       "4                                                5.0                                                                                               \n",
       "5                                                1.0                                                                                               \n",
       "6                                                6.0                                                                                               \n",
       "7                                                4.0                                                                                               \n",
       "8                                                5.0                                                                                               \n",
       "9                                                1.0                                                                                               \n",
       "\n",
       "   ...         Unnamed: 28       Which character shot first?  \\\n",
       "0  ...      Very favorably  I don't understand this question   \n",
       "1  ...                 NaN                               NaN   \n",
       "2  ...    Unfamiliar (N/A)  I don't understand this question   \n",
       "3  ...      Very favorably  I don't understand this question   \n",
       "4  ...  Somewhat favorably                            Greedo   \n",
       "5  ...      Very favorably                               Han   \n",
       "6  ...      Very favorably                               Han   \n",
       "7  ...      Very favorably                               Han   \n",
       "8  ...  Somewhat favorably                               Han   \n",
       "9  ...      Very favorably  I don't understand this question   \n",
       "\n",
       "   Are you familiar with the Expanded Universe?  \\\n",
       "0                                           Yes   \n",
       "1                                           NaN   \n",
       "2                                            No   \n",
       "3                                            No   \n",
       "4                                           Yes   \n",
       "5                                           Yes   \n",
       "6                                           Yes   \n",
       "7                                            No   \n",
       "8                                            No   \n",
       "9                                            No   \n",
       "\n",
       "   Do you consider yourself to be a fan of the Expanded Universe?  \\\n",
       "0                                                 No                \n",
       "1                                                NaN                \n",
       "2                                                NaN                \n",
       "3                                                NaN                \n",
       "4                                                 No                \n",
       "5                                                 No                \n",
       "6                                                 No                \n",
       "7                                                NaN                \n",
       "8                                                NaN                \n",
       "9                                                NaN                \n",
       "\n",
       "   Do you consider yourself to be a fan of the Star Trek franchise? Gender  \\\n",
       "0                                                 No                  Male   \n",
       "1                                                Yes                  Male   \n",
       "2                                                 No                  Male   \n",
       "3                                                Yes                  Male   \n",
       "4                                                 No                  Male   \n",
       "5                                                Yes                  Male   \n",
       "6                                                 No                  Male   \n",
       "7                                                Yes                  Male   \n",
       "8                                                 No                  Male   \n",
       "9                                                 No                  Male   \n",
       "\n",
       "     Age     Household Income                         Education  \\\n",
       "0  18-29                  NaN                High school degree   \n",
       "1  18-29         $0 - $24,999                   Bachelor degree   \n",
       "2  18-29         $0 - $24,999                High school degree   \n",
       "3  18-29  $100,000 - $149,999  Some college or Associate degree   \n",
       "4  18-29  $100,000 - $149,999  Some college or Associate degree   \n",
       "5  18-29    $25,000 - $49,999                   Bachelor degree   \n",
       "6  18-29                  NaN                High school degree   \n",
       "7  18-29                  NaN                High school degree   \n",
       "8  18-29         $0 - $24,999  Some college or Associate degree   \n",
       "9  18-29    $25,000 - $49,999  Some college or Associate degree   \n",
       "\n",
       "  Location (Census Region)  \n",
       "0           South Atlantic  \n",
       "1       West South Central  \n",
       "2       West North Central  \n",
       "3       West North Central  \n",
       "4       West North Central  \n",
       "5          Middle Atlantic  \n",
       "6       East North Central  \n",
       "7           South Atlantic  \n",
       "8           South Atlantic  \n",
       "9                  Pacific  \n",
       "\n",
       "[10 rows x 38 columns]"
      ]
     },
     "execution_count": 2,
     "metadata": {},
     "output_type": "execute_result"
    }
   ],
   "source": [
    "star_wars.head(10)"
   ]
  },
  {
   "cell_type": "markdown",
   "id": "7f47bad8",
   "metadata": {},
   "source": [
    "Looking at the first 10 rows it appears some checkbox responses and rankings have been included and lead to some odd formatting in the CSV format, and thus the dataframe format. This is leading to some unnamed columns and odd values. Values for ages and salaries are also in the form of ranges and not pure integers. "
   ]
  },
  {
   "cell_type": "code",
   "execution_count": 3,
   "id": "8626987e",
   "metadata": {},
   "outputs": [
    {
     "data": {
      "text/plain": [
       "Index(['RespondentID',\n",
       "       'Have you seen any of the 6 films in the Star Wars franchise?',\n",
       "       'Do you consider yourself to be a fan of the Star Wars film franchise?',\n",
       "       'Which of the following Star Wars films have you seen? Please select all that apply.',\n",
       "       'Unnamed: 4', 'Unnamed: 5', 'Unnamed: 6', 'Unnamed: 7', 'Unnamed: 8',\n",
       "       'Please rank the Star Wars films in order of preference with 1 being your favorite film in the franchise and 6 being your least favorite film.',\n",
       "       'Unnamed: 10', 'Unnamed: 11', 'Unnamed: 12', 'Unnamed: 13',\n",
       "       'Unnamed: 14',\n",
       "       'Please state whether you view the following characters favorably, unfavorably, or are unfamiliar with him/her.',\n",
       "       'Unnamed: 16', 'Unnamed: 17', 'Unnamed: 18', 'Unnamed: 19',\n",
       "       'Unnamed: 20', 'Unnamed: 21', 'Unnamed: 22', 'Unnamed: 23',\n",
       "       'Unnamed: 24', 'Unnamed: 25', 'Unnamed: 26', 'Unnamed: 27',\n",
       "       'Unnamed: 28', 'Which character shot first?',\n",
       "       'Are you familiar with the Expanded Universe?',\n",
       "       'Do you consider yourself to be a fan of the Expanded Universe?',\n",
       "       'Do you consider yourself to be a fan of the Star Trek franchise?',\n",
       "       'Gender', 'Age', 'Household Income', 'Education',\n",
       "       'Location (Census Region)'],\n",
       "      dtype='object')"
      ]
     },
     "execution_count": 3,
     "metadata": {},
     "output_type": "execute_result"
    }
   ],
   "source": [
    "star_wars.columns"
   ]
  },
  {
   "cell_type": "markdown",
   "id": "5a593a4b",
   "metadata": {},
   "source": [
    "Taking a closer look at the columns you can see there are many unnamed columns that will need to cleaned up a bit. There are also very long column mnames that are full survey questions. "
   ]
  },
  {
   "cell_type": "markdown",
   "id": "640c6ec6",
   "metadata": {},
   "source": [
    "## Cleaning and mapping the yes/no columns"
   ]
  },
  {
   "cell_type": "markdown",
   "id": "b96b48b5",
   "metadata": {},
   "source": [
    "Since we have a few columns that are just Yes/No values, and we may want to later sort on these columns, it will help save some time now if we conver these values into boolean values. Ahy sorting or indexing will be more convenient after making this change."
   ]
  },
  {
   "cell_type": "code",
   "execution_count": 4,
   "id": "6d9f3882",
   "metadata": {},
   "outputs": [],
   "source": [
    "yes_no = {\n",
    "    \"Yes\": True,\n",
    "    \"No\": False\n",
    "}\n",
    "\n",
    "star_wars[\"Have you seen any of the 6 films in the Star Wars franchise?\"] = star_wars[\"Have you seen any of the 6 films in the Star Wars franchise?\"].map(yes_no)"
   ]
  },
  {
   "cell_type": "code",
   "execution_count": 5,
   "id": "dee57025",
   "metadata": {},
   "outputs": [],
   "source": [
    "star_wars[\"Do you consider yourself to be a fan of the Star Wars film franchise?\"] = star_wars[\"Do you consider yourself to be a fan of the Star Wars film franchise?\"].map(yes_no)"
   ]
  },
  {
   "cell_type": "code",
   "execution_count": 6,
   "id": "7969a441",
   "metadata": {},
   "outputs": [
    {
     "data": {
      "text/plain": [
       "True     936\n",
       "False    250\n",
       "Name: Have you seen any of the 6 films in the Star Wars franchise?, dtype: int64"
      ]
     },
     "execution_count": 6,
     "metadata": {},
     "output_type": "execute_result"
    }
   ],
   "source": [
    "star_wars[\"Have you seen any of the 6 films in the Star Wars franchise?\"].value_counts(dropna=False)"
   ]
  },
  {
   "cell_type": "code",
   "execution_count": 7,
   "id": "3b25f288",
   "metadata": {},
   "outputs": [
    {
     "data": {
      "text/plain": [
       "True     552\n",
       "NaN      350\n",
       "False    284\n",
       "Name: Do you consider yourself to be a fan of the Star Wars film franchise?, dtype: int64"
      ]
     },
     "execution_count": 7,
     "metadata": {},
     "output_type": "execute_result"
    }
   ],
   "source": [
    "star_wars[\"Do you consider yourself to be a fan of the Star Wars film franchise?\"].value_counts(dropna=False)"
   ]
  },
  {
   "cell_type": "code",
   "execution_count": 8,
   "id": "67535561",
   "metadata": {},
   "outputs": [
    {
     "data": {
      "text/html": [
       "<div>\n",
       "<style scoped>\n",
       "    .dataframe tbody tr th:only-of-type {\n",
       "        vertical-align: middle;\n",
       "    }\n",
       "\n",
       "    .dataframe tbody tr th {\n",
       "        vertical-align: top;\n",
       "    }\n",
       "\n",
       "    .dataframe thead th {\n",
       "        text-align: right;\n",
       "    }\n",
       "</style>\n",
       "<table border=\"1\" class=\"dataframe\">\n",
       "  <thead>\n",
       "    <tr style=\"text-align: right;\">\n",
       "      <th></th>\n",
       "      <th>RespondentID</th>\n",
       "      <th>Have you seen any of the 6 films in the Star Wars franchise?</th>\n",
       "      <th>Do you consider yourself to be a fan of the Star Wars film franchise?</th>\n",
       "      <th>Which of the following Star Wars films have you seen? Please select all that apply.</th>\n",
       "      <th>Unnamed: 4</th>\n",
       "      <th>Unnamed: 5</th>\n",
       "      <th>Unnamed: 6</th>\n",
       "      <th>Unnamed: 7</th>\n",
       "      <th>Unnamed: 8</th>\n",
       "      <th>Please rank the Star Wars films in order of preference with 1 being your favorite film in the franchise and 6 being your least favorite film.</th>\n",
       "      <th>...</th>\n",
       "      <th>Unnamed: 28</th>\n",
       "      <th>Which character shot first?</th>\n",
       "      <th>Are you familiar with the Expanded Universe?</th>\n",
       "      <th>Do you consider yourself to be a fan of the Expanded Universe?</th>\n",
       "      <th>Do you consider yourself to be a fan of the Star Trek franchise?</th>\n",
       "      <th>Gender</th>\n",
       "      <th>Age</th>\n",
       "      <th>Household Income</th>\n",
       "      <th>Education</th>\n",
       "      <th>Location (Census Region)</th>\n",
       "    </tr>\n",
       "  </thead>\n",
       "  <tbody>\n",
       "    <tr>\n",
       "      <th>0</th>\n",
       "      <td>3292879998</td>\n",
       "      <td>True</td>\n",
       "      <td>True</td>\n",
       "      <td>Star Wars: Episode I  The Phantom Menace</td>\n",
       "      <td>Star Wars: Episode II  Attack of the Clones</td>\n",
       "      <td>Star Wars: Episode III  Revenge of the Sith</td>\n",
       "      <td>Star Wars: Episode IV  A New Hope</td>\n",
       "      <td>Star Wars: Episode V The Empire Strikes Back</td>\n",
       "      <td>Star Wars: Episode VI Return of the Jedi</td>\n",
       "      <td>3.0</td>\n",
       "      <td>...</td>\n",
       "      <td>Very favorably</td>\n",
       "      <td>I don't understand this question</td>\n",
       "      <td>Yes</td>\n",
       "      <td>No</td>\n",
       "      <td>No</td>\n",
       "      <td>Male</td>\n",
       "      <td>18-29</td>\n",
       "      <td>NaN</td>\n",
       "      <td>High school degree</td>\n",
       "      <td>South Atlantic</td>\n",
       "    </tr>\n",
       "    <tr>\n",
       "      <th>1</th>\n",
       "      <td>3292879538</td>\n",
       "      <td>False</td>\n",
       "      <td>NaN</td>\n",
       "      <td>NaN</td>\n",
       "      <td>NaN</td>\n",
       "      <td>NaN</td>\n",
       "      <td>NaN</td>\n",
       "      <td>NaN</td>\n",
       "      <td>NaN</td>\n",
       "      <td>NaN</td>\n",
       "      <td>...</td>\n",
       "      <td>NaN</td>\n",
       "      <td>NaN</td>\n",
       "      <td>NaN</td>\n",
       "      <td>NaN</td>\n",
       "      <td>Yes</td>\n",
       "      <td>Male</td>\n",
       "      <td>18-29</td>\n",
       "      <td>$0 - $24,999</td>\n",
       "      <td>Bachelor degree</td>\n",
       "      <td>West South Central</td>\n",
       "    </tr>\n",
       "    <tr>\n",
       "      <th>2</th>\n",
       "      <td>3292765271</td>\n",
       "      <td>True</td>\n",
       "      <td>False</td>\n",
       "      <td>Star Wars: Episode I  The Phantom Menace</td>\n",
       "      <td>Star Wars: Episode II  Attack of the Clones</td>\n",
       "      <td>Star Wars: Episode III  Revenge of the Sith</td>\n",
       "      <td>NaN</td>\n",
       "      <td>NaN</td>\n",
       "      <td>NaN</td>\n",
       "      <td>1.0</td>\n",
       "      <td>...</td>\n",
       "      <td>Unfamiliar (N/A)</td>\n",
       "      <td>I don't understand this question</td>\n",
       "      <td>No</td>\n",
       "      <td>NaN</td>\n",
       "      <td>No</td>\n",
       "      <td>Male</td>\n",
       "      <td>18-29</td>\n",
       "      <td>$0 - $24,999</td>\n",
       "      <td>High school degree</td>\n",
       "      <td>West North Central</td>\n",
       "    </tr>\n",
       "    <tr>\n",
       "      <th>3</th>\n",
       "      <td>3292763116</td>\n",
       "      <td>True</td>\n",
       "      <td>True</td>\n",
       "      <td>Star Wars: Episode I  The Phantom Menace</td>\n",
       "      <td>Star Wars: Episode II  Attack of the Clones</td>\n",
       "      <td>Star Wars: Episode III  Revenge of the Sith</td>\n",
       "      <td>Star Wars: Episode IV  A New Hope</td>\n",
       "      <td>Star Wars: Episode V The Empire Strikes Back</td>\n",
       "      <td>Star Wars: Episode VI Return of the Jedi</td>\n",
       "      <td>5.0</td>\n",
       "      <td>...</td>\n",
       "      <td>Very favorably</td>\n",
       "      <td>I don't understand this question</td>\n",
       "      <td>No</td>\n",
       "      <td>NaN</td>\n",
       "      <td>Yes</td>\n",
       "      <td>Male</td>\n",
       "      <td>18-29</td>\n",
       "      <td>$100,000 - $149,999</td>\n",
       "      <td>Some college or Associate degree</td>\n",
       "      <td>West North Central</td>\n",
       "    </tr>\n",
       "    <tr>\n",
       "      <th>4</th>\n",
       "      <td>3292731220</td>\n",
       "      <td>True</td>\n",
       "      <td>True</td>\n",
       "      <td>Star Wars: Episode I  The Phantom Menace</td>\n",
       "      <td>Star Wars: Episode II  Attack of the Clones</td>\n",
       "      <td>Star Wars: Episode III  Revenge of the Sith</td>\n",
       "      <td>Star Wars: Episode IV  A New Hope</td>\n",
       "      <td>Star Wars: Episode V The Empire Strikes Back</td>\n",
       "      <td>Star Wars: Episode VI Return of the Jedi</td>\n",
       "      <td>5.0</td>\n",
       "      <td>...</td>\n",
       "      <td>Somewhat favorably</td>\n",
       "      <td>Greedo</td>\n",
       "      <td>Yes</td>\n",
       "      <td>No</td>\n",
       "      <td>No</td>\n",
       "      <td>Male</td>\n",
       "      <td>18-29</td>\n",
       "      <td>$100,000 - $149,999</td>\n",
       "      <td>Some college or Associate degree</td>\n",
       "      <td>West North Central</td>\n",
       "    </tr>\n",
       "  </tbody>\n",
       "</table>\n",
       "<p>5 rows × 38 columns</p>\n",
       "</div>"
      ],
      "text/plain": [
       "   RespondentID  Have you seen any of the 6 films in the Star Wars franchise?  \\\n",
       "0    3292879998                                               True              \n",
       "1    3292879538                                              False              \n",
       "2    3292765271                                               True              \n",
       "3    3292763116                                               True              \n",
       "4    3292731220                                               True              \n",
       "\n",
       "  Do you consider yourself to be a fan of the Star Wars film franchise?  \\\n",
       "0                                               True                      \n",
       "1                                                NaN                      \n",
       "2                                              False                      \n",
       "3                                               True                      \n",
       "4                                               True                      \n",
       "\n",
       "  Which of the following Star Wars films have you seen? Please select all that apply.  \\\n",
       "0           Star Wars: Episode I  The Phantom Menace                                    \n",
       "1                                                NaN                                    \n",
       "2           Star Wars: Episode I  The Phantom Menace                                    \n",
       "3           Star Wars: Episode I  The Phantom Menace                                    \n",
       "4           Star Wars: Episode I  The Phantom Menace                                    \n",
       "\n",
       "                                    Unnamed: 4  \\\n",
       "0  Star Wars: Episode II  Attack of the Clones   \n",
       "1                                          NaN   \n",
       "2  Star Wars: Episode II  Attack of the Clones   \n",
       "3  Star Wars: Episode II  Attack of the Clones   \n",
       "4  Star Wars: Episode II  Attack of the Clones   \n",
       "\n",
       "                                    Unnamed: 5  \\\n",
       "0  Star Wars: Episode III  Revenge of the Sith   \n",
       "1                                          NaN   \n",
       "2  Star Wars: Episode III  Revenge of the Sith   \n",
       "3  Star Wars: Episode III  Revenge of the Sith   \n",
       "4  Star Wars: Episode III  Revenge of the Sith   \n",
       "\n",
       "                          Unnamed: 6  \\\n",
       "0  Star Wars: Episode IV  A New Hope   \n",
       "1                                NaN   \n",
       "2                                NaN   \n",
       "3  Star Wars: Episode IV  A New Hope   \n",
       "4  Star Wars: Episode IV  A New Hope   \n",
       "\n",
       "                                     Unnamed: 7  \\\n",
       "0  Star Wars: Episode V The Empire Strikes Back   \n",
       "1                                           NaN   \n",
       "2                                           NaN   \n",
       "3  Star Wars: Episode V The Empire Strikes Back   \n",
       "4  Star Wars: Episode V The Empire Strikes Back   \n",
       "\n",
       "                                 Unnamed: 8  \\\n",
       "0  Star Wars: Episode VI Return of the Jedi   \n",
       "1                                       NaN   \n",
       "2                                       NaN   \n",
       "3  Star Wars: Episode VI Return of the Jedi   \n",
       "4  Star Wars: Episode VI Return of the Jedi   \n",
       "\n",
       "   Please rank the Star Wars films in order of preference with 1 being your favorite film in the franchise and 6 being your least favorite film.  \\\n",
       "0                                                3.0                                                                                               \n",
       "1                                                NaN                                                                                               \n",
       "2                                                1.0                                                                                               \n",
       "3                                                5.0                                                                                               \n",
       "4                                                5.0                                                                                               \n",
       "\n",
       "   ...         Unnamed: 28       Which character shot first?  \\\n",
       "0  ...      Very favorably  I don't understand this question   \n",
       "1  ...                 NaN                               NaN   \n",
       "2  ...    Unfamiliar (N/A)  I don't understand this question   \n",
       "3  ...      Very favorably  I don't understand this question   \n",
       "4  ...  Somewhat favorably                            Greedo   \n",
       "\n",
       "   Are you familiar with the Expanded Universe?  \\\n",
       "0                                           Yes   \n",
       "1                                           NaN   \n",
       "2                                            No   \n",
       "3                                            No   \n",
       "4                                           Yes   \n",
       "\n",
       "   Do you consider yourself to be a fan of the Expanded Universe?  \\\n",
       "0                                                 No                \n",
       "1                                                NaN                \n",
       "2                                                NaN                \n",
       "3                                                NaN                \n",
       "4                                                 No                \n",
       "\n",
       "   Do you consider yourself to be a fan of the Star Trek franchise? Gender  \\\n",
       "0                                                 No                  Male   \n",
       "1                                                Yes                  Male   \n",
       "2                                                 No                  Male   \n",
       "3                                                Yes                  Male   \n",
       "4                                                 No                  Male   \n",
       "\n",
       "     Age     Household Income                         Education  \\\n",
       "0  18-29                  NaN                High school degree   \n",
       "1  18-29         $0 - $24,999                   Bachelor degree   \n",
       "2  18-29         $0 - $24,999                High school degree   \n",
       "3  18-29  $100,000 - $149,999  Some college or Associate degree   \n",
       "4  18-29  $100,000 - $149,999  Some college or Associate degree   \n",
       "\n",
       "  Location (Census Region)  \n",
       "0           South Atlantic  \n",
       "1       West South Central  \n",
       "2       West North Central  \n",
       "3       West North Central  \n",
       "4       West North Central  \n",
       "\n",
       "[5 rows x 38 columns]"
      ]
     },
     "execution_count": 8,
     "metadata": {},
     "output_type": "execute_result"
    }
   ],
   "source": [
    "star_wars.head()"
   ]
  },
  {
   "cell_type": "markdown",
   "id": "8aa6a612",
   "metadata": {},
   "source": [
    "## Cleaning and mapping checkbox columns"
   ]
  },
  {
   "cell_type": "markdown",
   "id": "6b1e2e95",
   "metadata": {},
   "source": [
    "Like the previous columns we adjusted to boolean values, we'll do the same here for the checkboxes of movies seen by respondents. This will help with brevity and readability of the cell values. "
   ]
  },
  {
   "cell_type": "code",
   "execution_count": 9,
   "id": "ff555a89",
   "metadata": {},
   "outputs": [],
   "source": [
    "import numpy as np\n",
    "\n",
    "title_map = {\n",
    "    \"Star Wars: Episode I  The Phantom Menace\": True,\n",
    "    \"Star Wars: Episode II  Attack of the Clones\": True,\n",
    "    \"Star Wars: Episode III  Revenge of the Sith\": True,\n",
    "    \"Star Wars: Episode IV  A New Hope\": True,\n",
    "    \"Star Wars: Episode V The Empire Strikes Back\": True,\n",
    "    \"Star Wars: Episode VI Return of the Jedi\": True,\n",
    "    np.nan: False\n",
    "}\n",
    "\n",
    "for col in star_wars.columns[3:9]:\n",
    "    star_wars[col] = star_wars[col].map(title_map)"
   ]
  },
  {
   "cell_type": "code",
   "execution_count": 10,
   "id": "30272f3d",
   "metadata": {},
   "outputs": [
    {
     "data": {
      "text/html": [
       "<div>\n",
       "<style scoped>\n",
       "    .dataframe tbody tr th:only-of-type {\n",
       "        vertical-align: middle;\n",
       "    }\n",
       "\n",
       "    .dataframe tbody tr th {\n",
       "        vertical-align: top;\n",
       "    }\n",
       "\n",
       "    .dataframe thead th {\n",
       "        text-align: right;\n",
       "    }\n",
       "</style>\n",
       "<table border=\"1\" class=\"dataframe\">\n",
       "  <thead>\n",
       "    <tr style=\"text-align: right;\">\n",
       "      <th></th>\n",
       "      <th>RespondentID</th>\n",
       "      <th>Have you seen any of the 6 films in the Star Wars franchise?</th>\n",
       "      <th>Do you consider yourself to be a fan of the Star Wars film franchise?</th>\n",
       "      <th>Which of the following Star Wars films have you seen? Please select all that apply.</th>\n",
       "      <th>Unnamed: 4</th>\n",
       "      <th>Unnamed: 5</th>\n",
       "      <th>Unnamed: 6</th>\n",
       "      <th>Unnamed: 7</th>\n",
       "      <th>Unnamed: 8</th>\n",
       "      <th>Please rank the Star Wars films in order of preference with 1 being your favorite film in the franchise and 6 being your least favorite film.</th>\n",
       "      <th>...</th>\n",
       "      <th>Unnamed: 28</th>\n",
       "      <th>Which character shot first?</th>\n",
       "      <th>Are you familiar with the Expanded Universe?</th>\n",
       "      <th>Do you consider yourself to be a fan of the Expanded Universe?</th>\n",
       "      <th>Do you consider yourself to be a fan of the Star Trek franchise?</th>\n",
       "      <th>Gender</th>\n",
       "      <th>Age</th>\n",
       "      <th>Household Income</th>\n",
       "      <th>Education</th>\n",
       "      <th>Location (Census Region)</th>\n",
       "    </tr>\n",
       "  </thead>\n",
       "  <tbody>\n",
       "    <tr>\n",
       "      <th>0</th>\n",
       "      <td>3292879998</td>\n",
       "      <td>True</td>\n",
       "      <td>True</td>\n",
       "      <td>True</td>\n",
       "      <td>True</td>\n",
       "      <td>True</td>\n",
       "      <td>True</td>\n",
       "      <td>True</td>\n",
       "      <td>True</td>\n",
       "      <td>3.0</td>\n",
       "      <td>...</td>\n",
       "      <td>Very favorably</td>\n",
       "      <td>I don't understand this question</td>\n",
       "      <td>Yes</td>\n",
       "      <td>No</td>\n",
       "      <td>No</td>\n",
       "      <td>Male</td>\n",
       "      <td>18-29</td>\n",
       "      <td>NaN</td>\n",
       "      <td>High school degree</td>\n",
       "      <td>South Atlantic</td>\n",
       "    </tr>\n",
       "    <tr>\n",
       "      <th>1</th>\n",
       "      <td>3292879538</td>\n",
       "      <td>False</td>\n",
       "      <td>NaN</td>\n",
       "      <td>False</td>\n",
       "      <td>False</td>\n",
       "      <td>False</td>\n",
       "      <td>False</td>\n",
       "      <td>False</td>\n",
       "      <td>False</td>\n",
       "      <td>NaN</td>\n",
       "      <td>...</td>\n",
       "      <td>NaN</td>\n",
       "      <td>NaN</td>\n",
       "      <td>NaN</td>\n",
       "      <td>NaN</td>\n",
       "      <td>Yes</td>\n",
       "      <td>Male</td>\n",
       "      <td>18-29</td>\n",
       "      <td>$0 - $24,999</td>\n",
       "      <td>Bachelor degree</td>\n",
       "      <td>West South Central</td>\n",
       "    </tr>\n",
       "    <tr>\n",
       "      <th>2</th>\n",
       "      <td>3292765271</td>\n",
       "      <td>True</td>\n",
       "      <td>False</td>\n",
       "      <td>True</td>\n",
       "      <td>True</td>\n",
       "      <td>True</td>\n",
       "      <td>False</td>\n",
       "      <td>False</td>\n",
       "      <td>False</td>\n",
       "      <td>1.0</td>\n",
       "      <td>...</td>\n",
       "      <td>Unfamiliar (N/A)</td>\n",
       "      <td>I don't understand this question</td>\n",
       "      <td>No</td>\n",
       "      <td>NaN</td>\n",
       "      <td>No</td>\n",
       "      <td>Male</td>\n",
       "      <td>18-29</td>\n",
       "      <td>$0 - $24,999</td>\n",
       "      <td>High school degree</td>\n",
       "      <td>West North Central</td>\n",
       "    </tr>\n",
       "    <tr>\n",
       "      <th>3</th>\n",
       "      <td>3292763116</td>\n",
       "      <td>True</td>\n",
       "      <td>True</td>\n",
       "      <td>True</td>\n",
       "      <td>True</td>\n",
       "      <td>True</td>\n",
       "      <td>True</td>\n",
       "      <td>True</td>\n",
       "      <td>True</td>\n",
       "      <td>5.0</td>\n",
       "      <td>...</td>\n",
       "      <td>Very favorably</td>\n",
       "      <td>I don't understand this question</td>\n",
       "      <td>No</td>\n",
       "      <td>NaN</td>\n",
       "      <td>Yes</td>\n",
       "      <td>Male</td>\n",
       "      <td>18-29</td>\n",
       "      <td>$100,000 - $149,999</td>\n",
       "      <td>Some college or Associate degree</td>\n",
       "      <td>West North Central</td>\n",
       "    </tr>\n",
       "    <tr>\n",
       "      <th>4</th>\n",
       "      <td>3292731220</td>\n",
       "      <td>True</td>\n",
       "      <td>True</td>\n",
       "      <td>True</td>\n",
       "      <td>True</td>\n",
       "      <td>True</td>\n",
       "      <td>True</td>\n",
       "      <td>True</td>\n",
       "      <td>True</td>\n",
       "      <td>5.0</td>\n",
       "      <td>...</td>\n",
       "      <td>Somewhat favorably</td>\n",
       "      <td>Greedo</td>\n",
       "      <td>Yes</td>\n",
       "      <td>No</td>\n",
       "      <td>No</td>\n",
       "      <td>Male</td>\n",
       "      <td>18-29</td>\n",
       "      <td>$100,000 - $149,999</td>\n",
       "      <td>Some college or Associate degree</td>\n",
       "      <td>West North Central</td>\n",
       "    </tr>\n",
       "  </tbody>\n",
       "</table>\n",
       "<p>5 rows × 38 columns</p>\n",
       "</div>"
      ],
      "text/plain": [
       "   RespondentID  Have you seen any of the 6 films in the Star Wars franchise?  \\\n",
       "0    3292879998                                               True              \n",
       "1    3292879538                                              False              \n",
       "2    3292765271                                               True              \n",
       "3    3292763116                                               True              \n",
       "4    3292731220                                               True              \n",
       "\n",
       "  Do you consider yourself to be a fan of the Star Wars film franchise?  \\\n",
       "0                                               True                      \n",
       "1                                                NaN                      \n",
       "2                                              False                      \n",
       "3                                               True                      \n",
       "4                                               True                      \n",
       "\n",
       "   Which of the following Star Wars films have you seen? Please select all that apply.  \\\n",
       "0                                               True                                     \n",
       "1                                              False                                     \n",
       "2                                               True                                     \n",
       "3                                               True                                     \n",
       "4                                               True                                     \n",
       "\n",
       "   Unnamed: 4  Unnamed: 5  Unnamed: 6  Unnamed: 7  Unnamed: 8  \\\n",
       "0        True        True        True        True        True   \n",
       "1       False       False       False       False       False   \n",
       "2        True        True       False       False       False   \n",
       "3        True        True        True        True        True   \n",
       "4        True        True        True        True        True   \n",
       "\n",
       "   Please rank the Star Wars films in order of preference with 1 being your favorite film in the franchise and 6 being your least favorite film.  \\\n",
       "0                                                3.0                                                                                               \n",
       "1                                                NaN                                                                                               \n",
       "2                                                1.0                                                                                               \n",
       "3                                                5.0                                                                                               \n",
       "4                                                5.0                                                                                               \n",
       "\n",
       "   ...         Unnamed: 28       Which character shot first?  \\\n",
       "0  ...      Very favorably  I don't understand this question   \n",
       "1  ...                 NaN                               NaN   \n",
       "2  ...    Unfamiliar (N/A)  I don't understand this question   \n",
       "3  ...      Very favorably  I don't understand this question   \n",
       "4  ...  Somewhat favorably                            Greedo   \n",
       "\n",
       "   Are you familiar with the Expanded Universe?  \\\n",
       "0                                           Yes   \n",
       "1                                           NaN   \n",
       "2                                            No   \n",
       "3                                            No   \n",
       "4                                           Yes   \n",
       "\n",
       "   Do you consider yourself to be a fan of the Expanded Universe?  \\\n",
       "0                                                 No                \n",
       "1                                                NaN                \n",
       "2                                                NaN                \n",
       "3                                                NaN                \n",
       "4                                                 No                \n",
       "\n",
       "   Do you consider yourself to be a fan of the Star Trek franchise? Gender  \\\n",
       "0                                                 No                  Male   \n",
       "1                                                Yes                  Male   \n",
       "2                                                 No                  Male   \n",
       "3                                                Yes                  Male   \n",
       "4                                                 No                  Male   \n",
       "\n",
       "     Age     Household Income                         Education  \\\n",
       "0  18-29                  NaN                High school degree   \n",
       "1  18-29         $0 - $24,999                   Bachelor degree   \n",
       "2  18-29         $0 - $24,999                High school degree   \n",
       "3  18-29  $100,000 - $149,999  Some college or Associate degree   \n",
       "4  18-29  $100,000 - $149,999  Some college or Associate degree   \n",
       "\n",
       "  Location (Census Region)  \n",
       "0           South Atlantic  \n",
       "1       West South Central  \n",
       "2       West North Central  \n",
       "3       West North Central  \n",
       "4       West North Central  \n",
       "\n",
       "[5 rows x 38 columns]"
      ]
     },
     "execution_count": 10,
     "metadata": {},
     "output_type": "execute_result"
    }
   ],
   "source": [
    "star_wars.head() # Checking to see that the mapping worked as intended"
   ]
  },
  {
   "cell_type": "markdown",
   "id": "1be65004",
   "metadata": {},
   "source": [
    "Next we'll rename the columns to something more descriptive."
   ]
  },
  {
   "cell_type": "code",
   "execution_count": 12,
   "id": "51995c92",
   "metadata": {},
   "outputs": [],
   "source": [
    "star_wars = star_wars.rename(columns=\n",
    "                             {'Which of the following Star Wars films have you seen? Please select all that apply.': 'seen_1',\n",
    "                             'Unnamed: 4': 'seen_2',\n",
    "                             'Unnamed: 5': 'seen_3',\n",
    "                             'Unnamed: 6': 'seen_4',\n",
    "                             'Unnamed: 7': 'seen_5',\n",
    "                             'Unnamed: 8': 'seen_6'})"
   ]
  },
  {
   "cell_type": "markdown",
   "id": "83f9dec0",
   "metadata": {},
   "source": [
    "## Cleaning the Ranking Columns"
   ]
  },
  {
   "cell_type": "markdown",
   "id": "a54b173b",
   "metadata": {},
   "source": [
    "The columns for ranking the favorites (starting with '1' as being most favorite) use numerical values for the ranking, so we will convert those column values to float."
   ]
  },
  {
   "cell_type": "code",
   "execution_count": 16,
   "id": "1aa2d93d",
   "metadata": {},
   "outputs": [],
   "source": [
    "star_wars[star_wars.columns[9:15]] = star_wars[star_wars.columns[9:15]].astype(float)"
   ]
  },
  {
   "cell_type": "markdown",
   "id": "ec5c6f25",
   "metadata": {},
   "source": [
    "As was done with the columns pertaining to which movies a respondent has seen, we will change the 'unnamed' columns to names indicating they have to do with ranking. "
   ]
  },
  {
   "cell_type": "code",
   "execution_count": 22,
   "id": "ab7f1a6f",
   "metadata": {},
   "outputs": [],
   "source": [
    "star_wars = star_wars.rename(columns=\n",
    "                            {'Please rank the Star Wars films in order of preference with 1 being your favorite film in the franchise and 6 being your least favorite film.': 'ranking_1',\n",
    "                            'Unnamed: 10': 'ranking_2',\n",
    "                            'Unnamed: 11': 'ranking_3',\n",
    "                            'Unnamed: 12': 'ranking_4',\n",
    "                            'Unnamed: 13': 'ranking_5',\n",
    "                            'Unnamed: 14': 'ranking_6'\n",
    "                            })"
   ]
  },
  {
   "cell_type": "markdown",
   "id": "454211e7",
   "metadata": {},
   "source": [
    "## Finding the highest ranked movie"
   ]
  },
  {
   "cell_type": "markdown",
   "id": "76549f6d",
   "metadata": {},
   "source": [
    "We'll find the highest ranked move by computing the mean for each movie."
   ]
  },
  {
   "cell_type": "code",
   "execution_count": 23,
   "id": "5c7da946",
   "metadata": {},
   "outputs": [
    {
     "data": {
      "text/plain": [
       "ranking_1    3.732934\n",
       "ranking_2    4.087321\n",
       "ranking_3    4.341317\n",
       "ranking_4    3.272727\n",
       "ranking_5    2.513158\n",
       "ranking_6    3.047847\n",
       "dtype: float64"
      ]
     },
     "execution_count": 23,
     "metadata": {},
     "output_type": "execute_result"
    }
   ],
   "source": [
    "star_wars[star_wars.columns[9:15]].mean()"
   ]
  },
  {
   "cell_type": "code",
   "execution_count": 24,
   "id": "f4ff7749",
   "metadata": {},
   "outputs": [
    {
     "data": {
      "text/plain": [
       "<BarContainer object of 6 artists>"
      ]
     },
     "execution_count": 24,
     "metadata": {},
     "output_type": "execute_result"
    },
    {
     "data": {
      "image/png": "[encoded data removed]",
      "text/plain": [
       "<Figure size 432x288 with 1 Axes>"
      ]
     },
     "metadata": {
      "needs_background": "light"
     },
     "output_type": "display_data"
    }
   ],
   "source": [
    "%matplotlib inline\n",
    "import matplotlib.pyplot as plt\n",
    "\n",
    "plt.bar(range(6), star_wars[star_wars.columns[9:15]].mean())"
   ]
  },
  {
   "cell_type": "markdown",
   "id": "edec14ed",
   "metadata": {},
   "source": [
    "After calculating the means for each movie's ranking and graphing it, we can see that Star Wars: The Empire Stirkes Back is the favorite movie among Star Wars watcher that responded to the survey. While the first movie to ever be released is Episode IV, Episode V (or second movie ever released) contains many of the iconic characters and scenes from the series overall. Including the battle of Hoth, Yoda, Lando and Cloud City, as well as the famous reveal of Darth Vader being Luke Skywalker's father. "
   ]
  },
  {
   "cell_type": "markdown",
   "id": "acd699a7",
   "metadata": {},
   "source": [
    "## Finding the Most Viewed Movie"
   ]
  },
  {
   "cell_type": "code",
   "execution_count": 27,
   "id": "bd7c43f2",
   "metadata": {},
   "outputs": [
    {
     "data": {
      "text/plain": [
       "seen_1    673\n",
       "seen_2    571\n",
       "seen_3    550\n",
       "seen_4    607\n",
       "seen_5    758\n",
       "seen_6    738\n",
       "dtype: int64"
      ]
     },
     "execution_count": 27,
     "metadata": {},
     "output_type": "execute_result"
    }
   ],
   "source": [
    "star_wars[star_wars.columns[3:9]].sum()"
   ]
  },
  {
   "cell_type": "code",
   "execution_count": 28,
   "id": "bef0e784",
   "metadata": {},
   "outputs": [
    {
     "data": {
      "text/plain": [
       "<BarContainer object of 6 artists>"
      ]
     },
     "execution_count": 28,
     "metadata": {},
     "output_type": "execute_result"
    },
    {
     "data": {
      "image/png": "[encoded data removed]",
      "text/plain": [
       "<Figure size 432x288 with 1 Axes>"
      ]
     },
     "metadata": {
      "needs_background": "light"
     },
     "output_type": "display_data"
    }
   ],
   "source": [
    "plt.bar(range(6), star_wars[star_wars.columns[3:9]].mean())"
   ]
  },
  {
   "cell_type": "markdown",
   "id": "c95c737f",
   "metadata": {},
   "source": [
    "Looking at the most viewed, it is no surprise that the most viewed movie correlates with the most highly ranked, which is Star Wars: The Empire Strikes Back (Episode V). The first and sixth movies, while most viewed, did not correlate to high ratings. "
   ]
  },
  {
   "cell_type": "markdown",
   "id": "dbae3a34",
   "metadata": {},
   "source": [
    "## Exploring the Data by Binary Segments"
   ]
  },
  {
   "cell_type": "code",
   "execution_count": 29,
   "id": "89b54d80",
   "metadata": {},
   "outputs": [],
   "source": [
    "males = star_wars[star_wars[\"Gender\"] == \"Male\"]\n",
    "females = star_wars[star_wars[\"Gender\"] == \"Female\"]"
   ]
  },
  {
   "cell_type": "markdown",
   "id": "2a310935",
   "metadata": {},
   "source": [
    "With two versions of the dataframe, one singling our 'Males' and one singling out 'Females' what differences do we see in move rankings and total views?"
   ]
  },
  {
   "cell_type": "code",
   "execution_count": 31,
   "id": "ff0e54b7",
   "metadata": {},
   "outputs": [
    {
     "data": {
      "image/png": "[encoded data removed]",
      "text/plain": [
       "<Figure size 432x288 with 1 Axes>"
      ]
     },
     "metadata": {
      "needs_background": "light"
     },
     "output_type": "display_data"
    },
    {
     "data": {
      "image/png": "[encoded data removed]",
      "text/plain": [
       "<Figure size 432x288 with 1 Axes>"
      ]
     },
     "metadata": {
      "needs_background": "light"
     },
     "output_type": "display_data"
    }
   ],
   "source": [
    "# Male and Female means and graphs for rankings\n",
    "\n",
    "males[males.columns[9:15]].mean()\n",
    "plt.bar(range(6), males[males.columns[9:15]].mean())\n",
    "plt.show()\n",
    "\n",
    "females[females.columns[9:15]].mean()\n",
    "plt.bar(range(6), females[females.columns[9:15]].mean())\n",
    "plt.show()"
   ]
  },
  {
   "cell_type": "markdown",
   "id": "1bf17b08",
   "metadata": {},
   "source": [
    "The rankings reveal that females seemed to enjoy the prequels (Episode I-II-III) more than male audiences did. "
   ]
  },
  {
   "cell_type": "code",
   "execution_count": 33,
   "id": "fa9127fc",
   "metadata": {},
   "outputs": [
    {
     "data": {
      "image/png": "[encoded data removed]",
      "text/plain": [
       "<Figure size 432x288 with 1 Axes>"
      ]
     },
     "metadata": {
      "needs_background": "light"
     },
     "output_type": "display_data"
    },
    {
     "data": {
      "image/png": "[encoded data removed]",
      "text/plain": [
       "<Figure size 432x288 with 1 Axes>"
      ]
     },
     "metadata": {
      "needs_background": "light"
     },
     "output_type": "display_data"
    }
   ],
   "source": [
    "# Male and female means and graphs for most viewed\n",
    "\n",
    "males[males.columns[9:15]].mean()\n",
    "plt.bar(range(6), males[males.columns[3:9]].mean())\n",
    "plt.show()\n",
    "\n",
    "females[females.columns[9:15]].mean()\n",
    "plt.bar(range(6), females[females.columns[3:9]].mean())\n",
    "plt.show()"
   ]
  },
  {
   "cell_type": "markdown",
   "id": "b7b65a5b",
   "metadata": {},
   "source": [
    "However, it appears that males watched those prequel movies more than females did. "
   ]
  },
  {
   "cell_type": "markdown",
   "id": "233647c6",
   "metadata": {},
   "source": [
    "## Other Segments of the Survey"
   ]
  },
  {
   "cell_type": "markdown",
   "id": "696a7dd9",
   "metadata": {},
   "source": [
    "When Star Wars was re-released to theaters in the late 90's, some alterations were made to the theatrical release across the original trilogy of Episodes IV thru VI. One of the most well known is the scene in Mos Eisley where Han is confrtoned by Greedo on behalf of Jaba the Hut. In the original version, Han shoots Greedo before Greedo can shoot Han and take him to Jaba. Deemed someone what cold for a heroic character, this was re-edited so that Greedo shoots first and then Han shoots him after dodging the first shot. This is so well known that this was a survey question from FiveThirtyEight. "
   ]
  },
  {
   "cell_type": "code",
   "execution_count": 45,
   "id": "9d54b978",
   "metadata": {},
   "outputs": [
    {
     "data": {
      "text/plain": [
       "NaN                                 358\n",
       "Han                                 325\n",
       "I don't understand this question    306\n",
       "Greedo                              197\n",
       "Name: Which character shot first?, dtype: int64"
      ]
     },
     "execution_count": 45,
     "metadata": {},
     "output_type": "execute_result"
    }
   ],
   "source": [
    "star_wars['Which character shot first?'].value_counts(dropna=False)"
   ]
  },
  {
   "cell_type": "markdown",
   "id": "4937f6d8",
   "metadata": {},
   "source": [
    "As you can see, the respondents to this survey in the plurality say Han shot first, follwed by those not understanding the question and then Greedo. The difference between the first two is 325 to 306, so a significant portion of respondents are likely not hardcore fans. Do these differences mark any other variability in the responses for rankings and most viewed?"
   ]
  },
  {
   "cell_type": "code",
   "execution_count": 53,
   "id": "8832d68e",
   "metadata": {},
   "outputs": [
    {
     "name": "stdout",
     "output_type": "stream",
     "text": [
      "[\"I don't understand this question\" 'Greedo' 'Han']\n"
     ]
    }
   ],
   "source": [
    "greedo_str = \"Which character shot first?\"\n",
    "greedo_vals = star_wars[greedo_str].dropna().unique()\n",
    "print(greedo_vals)"
   ]
  },
  {
   "cell_type": "code",
   "execution_count": 54,
   "id": "5cc9ef25",
   "metadata": {},
   "outputs": [
    {
     "data": {
      "image/png": "[encoded data removed]",
      "text/plain": [
       "<Figure size 432x288 with 1 Axes>"
      ]
     },
     "metadata": {
      "needs_background": "light"
     },
     "output_type": "display_data"
    },
    {
     "data": {
      "image/png": "[encoded data removed]",
      "text/plain": [
       "<Figure size 432x288 with 1 Axes>"
      ]
     },
     "metadata": {
      "needs_background": "light"
     },
     "output_type": "display_data"
    },
    {
     "data": {
      "image/png": "[encoded data removed]",
      "text/plain": [
       "<Figure size 432x288 with 1 Axes>"
      ]
     },
     "metadata": {
      "needs_background": "light"
     },
     "output_type": "display_data"
    }
   ],
   "source": [
    "for vals in greedo_vals:\n",
    "    segment = star_wars[star_wars[greedo_str] == vals]\n",
    "    segment[segment.columns[9:15]].mean()\n",
    "    plt.bar(range(6), segment[segment.columns[9:15]].mean())\n",
    "    plt.show()"
   ]
  },
  {
   "cell_type": "markdown",
   "id": "9f0761c2",
   "metadata": {},
   "source": [
    "Interestingly, those that do not understand the question note the first movie as one of their least favorite, while the other answers that recognize the question have the first movie (Episode IV) as one of their favorites. "
   ]
  },
  {
   "cell_type": "code",
   "execution_count": 55,
   "id": "91056c54",
   "metadata": {},
   "outputs": [
    {
     "data": {
      "image/png": "[encoded data removed]",
      "text/plain": [
       "<Figure size 432x288 with 1 Axes>"
      ]
     },
     "metadata": {
      "needs_background": "light"
     },
     "output_type": "display_data"
    },
    {
     "data": {
      "image/png": "[encoded data removed]",
      "text/plain": [
       "<Figure size 432x288 with 1 Axes>"
      ]
     },
     "metadata": {
      "needs_background": "light"
     },
     "output_type": "display_data"
    },
    {
     "data": {
      "image/png": "[encoded data removed]",
      "text/plain": [
       "<Figure size 432x288 with 1 Axes>"
      ]
     },
     "metadata": {
      "needs_background": "light"
     },
     "output_type": "display_data"
    }
   ],
   "source": [
    "for vals in greedo_vals:\n",
    "    segment = star_wars[star_wars[greedo_str] == vals]\n",
    "    segment[segment.columns[3:9]].mean()\n",
    "    plt.bar(range(6), segment[segment.columns[3:9]].mean())\n",
    "    plt.show()"
   ]
  },
  {
   "cell_type": "markdown",
   "id": "1689e5e9",
   "metadata": {},
   "source": [
    "Though in some varying degrees, the most watched and least watched movies are the same between the three groups."
   ]
  }
 ],
 "metadata": {
  "kernelspec": {
   "display_name": "Python 3 (ipykernel)",
   "language": "python",
   "name": "python3"
  },
  "language_info": {
   "codemirror_mode": {
    "name": "ipython",
    "version": 3
   },
   "file_extension": ".py",
   "mimetype": "text/x-python",
   "name": "python",
   "nbconvert_exporter": "python",
   "pygments_lexer": "ipython3",
   "version": "3.9.12"
  }
 },
 "nbformat": 4,
 "nbformat_minor": 5
}
